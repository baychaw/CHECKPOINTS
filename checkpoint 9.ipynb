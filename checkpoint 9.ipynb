{
 "cells": [
  {
   "cell_type": "code",
   "execution_count": 1,
   "id": "96e272ce",
   "metadata": {},
   "outputs": [
    {
     "name": "stdout",
     "output_type": "stream",
     "text": [
      "ce chekpoint pour manipulation des fichiers.\n",
      "il contient 4 lignes. \n",
      "la 3 eme ligne. \n",
      "la 4 eme et derniere ligne.\n"
     ]
    }
   ],
   "source": [
    "def lire_fichier_entier(chemin):\n",
    "    with open(chemin, 'r', encoding='utf-8') as f:\n",
    "        contenu = f.read()\n",
    "    return contenu\n",
    "chemin=\"C:/Users/HP/Desktop/text.txt\"\n",
    "fichier=lire_fichier_entier(chemin)\n",
    "print(fichier)"
   ]
  },
  {
   "cell_type": "code",
   "execution_count": 2,
   "id": "159d1953",
   "metadata": {},
   "outputs": [
    {
     "name": "stdout",
     "output_type": "stream",
     "text": [
      "ce chekpoint pour manipulation des fichiers.\n",
      "il contient 4 lignes. \n",
      "\n"
     ]
    }
   ],
   "source": [
    "def lire_premiere_n_lignes(chemin, n):\n",
    "    with open(chemin, 'r', encoding='utf-8') as f:\n",
    "        lignes = f.readlines()[:n]\n",
    "    return ''.join(lignes)\n",
    "\n",
    "# Exemple d'utilisation\n",
    "chemin = \"C:/Users/HP/Desktop/text.txt\"\n",
    "n = 2\n",
    "premiers_n_lignes = lire_premiere_n_lignes(chemin, n)\n",
    "print(premiers_n_lignes)\n"
   ]
  },
  {
   "cell_type": "code",
   "execution_count": 3,
   "id": "90a77ad8",
   "metadata": {},
   "outputs": [
    {
     "name": "stdout",
     "output_type": "stream",
     "text": [
      "la 3 eme ligne. \n",
      "la 4 eme et derniere ligne.\n"
     ]
    }
   ],
   "source": [
    "def lire_derniers_n_lignes(chemin, n):\n",
    "    with open(chemin, 'r', encoding='utf-8') as f:\n",
    "        lignes = f.readlines()[-n:]\n",
    "    return ''.join(lignes)\n",
    "\n",
    "# Exemple d'utilisation\n",
    "chemin = \"C:/Users/HP/Desktop/text.txt\"\n",
    "n = 2\n",
    "derniers_n_lignes = lire_derniers_n_lignes(chemin, n)\n",
    "print(derniers_n_lignes)"
   ]
  },
  {
   "cell_type": "code",
   "execution_count": 4,
   "id": "952e9c9f",
   "metadata": {},
   "outputs": [
    {
     "name": "stdout",
     "output_type": "stream",
     "text": [
      "ce fichier contient 20 mots\n"
     ]
    }
   ],
   "source": [
    "with open(\"C:/Users/HP/Desktop/text.txt\",\"r\") as f:\n",
    "    fichier=f.read().split()\n",
    "    words=len(fichier)\n",
    "    print(\"ce fichier contient\", words, \"mots\")\n"
   ]
  },
  {
   "cell_type": "code",
   "execution_count": 5,
   "id": "02d3d6b4",
   "metadata": {},
   "outputs": [],
   "source": [
    "f.close()"
   ]
  },
  {
   "cell_type": "code",
   "execution_count": null,
   "id": "d4edb1a1",
   "metadata": {},
   "outputs": [],
   "source": []
  }
 ],
 "metadata": {
  "kernelspec": {
   "display_name": "Python 3 (ipykernel)",
   "language": "python",
   "name": "python3"
  },
  "language_info": {
   "codemirror_mode": {
    "name": "ipython",
    "version": 3
   },
   "file_extension": ".py",
   "mimetype": "text/x-python",
   "name": "python",
   "nbconvert_exporter": "python",
   "pygments_lexer": "ipython3",
   "version": "3.11.5"
  }
 },
 "nbformat": 4,
 "nbformat_minor": 5
}
