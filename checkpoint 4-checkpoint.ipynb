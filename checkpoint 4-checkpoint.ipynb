{
 "cells": [
  {
   "cell_type": "code",
   "execution_count": 1,
   "id": "e4f317c1",
   "metadata": {},
   "outputs": [
    {
     "name": "stdout",
     "output_type": "stream",
     "text": [
      "entrer le premier nombre:10\n",
      "entrer le deuxieme nobre:20\n",
      "entrer l'operation (+,-,*,/):+\n",
      "30\n",
      "entrer le premier nombre:12\n",
      "entrer le deuxieme nobre:21\n",
      "entrer l'operation (+,-,*,/):-\n",
      "-9\n",
      "entrer le premier nombre:22\n",
      "entrer le deuxieme nobre:2\n",
      "entrer l'operation (+,-,*,/):*\n",
      "44\n",
      "entrer le premier nombre:12\n",
      "entrer le deuxieme nobre:2\n",
      "entrer l'operation (+,-,*,/):/\n",
      "6.0\n",
      "entrer le premier nombre:12\n",
      "entrer le deuxieme nobre:23\n",
      "entrer l'operation (+,-,*,/):M\n",
      "entrer l'operation juste\n",
      "entrer le premier nombre:10\n",
      "entrer le deuxieme nobre:12\n",
      "entrer l'operation (+,-,*,/):q\n"
     ]
    }
   ],
   "source": [
    "def calculatrice (num1,num2):\n",
    "    x=input(\"entrer l'operation (+,-,*,/):\")\n",
    "\n",
    "    if x==\"+\":\n",
    "        e=num1+num2\n",
    "        return (e)\n",
    "    elif x==\"-\":\n",
    "        e=num1-num2\n",
    "        return (e)\n",
    "    elif x==\"*\":\n",
    "        e=num1*num2\n",
    "        return (e)\n",
    "    elif x==\"/\":\n",
    "        e=num1/num2\n",
    "        return (e)\n",
    "    elif x.lower()=='q':\n",
    "        return \"quit\"\n",
    "    \n",
    "    else:\n",
    "        e=\"entrer l'operation juste\"\n",
    "        return (e)\n",
    "\n",
    "while True:\n",
    "    num1=int(input(\"entrer le premier nombre:\"))\n",
    "    num2=int(input(\"entrer le deuxieme nobre:\"))\n",
    "    resultat=calculatrice(num1,num2) \n",
    "    if resultat==\"quit\":\n",
    "        break\n",
    "    print (resultat)"
   ]
  },
  {
   "cell_type": "code",
   "execution_count": null,
   "id": "bc9460d0",
   "metadata": {},
   "outputs": [],
   "source": []
  }
 ],
 "metadata": {
  "kernelspec": {
   "display_name": "Python 3 (ipykernel)",
   "language": "python",
   "name": "python3"
  },
  "language_info": {
   "codemirror_mode": {
    "name": "ipython",
    "version": 3
   },
   "file_extension": ".py",
   "mimetype": "text/x-python",
   "name": "python",
   "nbconvert_exporter": "python",
   "pygments_lexer": "ipython3",
   "version": "3.11.5"
  }
 },
 "nbformat": 4,
 "nbformat_minor": 5
}
