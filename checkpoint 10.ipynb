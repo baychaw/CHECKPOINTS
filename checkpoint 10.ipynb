{
 "cells": [
  {
   "cell_type": "code",
   "execution_count": 1,
   "id": "990e6ffb",
   "metadata": {},
   "outputs": [
    {
     "name": "stdout",
     "output_type": "stream",
     "text": [
      "binary_search([1, 2, 3, 5, 8], 6) -> False\n",
      "binary_search([1, 2, 3, 5, 8], 5) -> True\n"
     ]
    }
   ],
   "source": [
    "def binary_search(liste, element):\n",
    "    # Initialiser les indices de début et de fin\n",
    "    debut, fin = 0, len(liste) - 1\n",
    "\n",
    "    while debut <= fin:\n",
    "        milieu = (debut + fin) // 2  # Trouver l'indice du milieu\n",
    "\n",
    "        # Vérifier si l'élément est présent au milieu\n",
    "        if liste[milieu] == element:\n",
    "            return True\n",
    "        elif liste[milieu] < element:\n",
    "            debut = milieu + 1  # Ignorer la moitié gauche\n",
    "        else:\n",
    "            fin = milieu - 1  # Ignorer la moitié droite\n",
    "\n",
    "    return False  # Élément non trouvé\n",
    "\n",
    "# Test avec les données fournies\n",
    "resultat_test1 = binary_search([1, 2, 3, 5, 8], 6)\n",
    "resultat_test2 = binary_search([1, 2, 3, 5, 8], 5)\n",
    "\n",
    "# Afficher les résultats\n",
    "print(f\"binary_search([1, 2, 3, 5, 8], 6) -> {resultat_test1}\")\n",
    "print(f\"binary_search([1, 2, 3, 5, 8], 5) -> {resultat_test2}\")\n"
   ]
  },
  {
   "cell_type": "code",
   "execution_count": 2,
   "id": "1ff431c3",
   "metadata": {},
   "outputs": [
    {
     "name": "stdout",
     "output_type": "stream",
     "text": [
      "puissance(3, 4) -> 81\n"
     ]
    }
   ],
   "source": [
    "def puissance(a, b):\n",
    "    # Utilisation de l'opérateur ** pour calculer la puissance\n",
    "    resultat = a ** b\n",
    "    return resultat\n",
    "\n",
    "# Test avec les données fournies\n",
    "resultat_test = puissance(3, 4)\n",
    "\n",
    "# Afficher le résultat\n",
    "print(f\"puissance(3, 4) -> {resultat_test}\")\n"
   ]
  },
  {
   "cell_type": "code",
   "execution_count": 3,
   "id": "969e2bea",
   "metadata": {},
   "outputs": [
    {
     "name": "stdout",
     "output_type": "stream",
     "text": [
      "Résultat attendu : [13, 22, 29, 37, 46, 49, 52, 56, 71]\n",
      "Résultat obtenu   : [13, 22, 29, 37, 46, 49, 52, 56, 71]\n"
     ]
    }
   ],
   "source": [
    "def tri_a_bulles(liste):\n",
    "    n = len(liste)\n",
    "\n",
    "    # Parcourir tous les éléments de la liste\n",
    "    for i in range(n):\n",
    "        # Derniers i éléments déjà triés, pas besoin de les vérifier à nouveau\n",
    "        for j in range(0, n-i-1):\n",
    "            # Échanger les éléments si l'élément trouvé est plus grand que le suivant\n",
    "            if liste[j] > liste[j+1]:\n",
    "                liste[j], liste[j+1] = liste[j+1], liste[j]\n",
    "\n",
    "# Test avec les données d'exemple\n",
    "donnees = [29, 13, 22, 37, 52, 49, 46, 71, 56]\n",
    "tri_a_bulles(donnees)\n",
    "\n",
    "# Afficher le résultat\n",
    "print(\"Résultat attendu :\", [13, 22, 29, 37, 46, 49, 52, 56, 71])\n",
    "print(\"Résultat obtenu   :\", donnees)\n"
   ]
  },
  {
   "cell_type": "code",
   "execution_count": 4,
   "id": "dc1da082",
   "metadata": {},
   "outputs": [
    {
     "name": "stdout",
     "output_type": "stream",
     "text": [
      "Résultat attendu : [13, 22, 29, 37, 46, 49, 52, 56, 71]\n",
      "Résultat obtenu   : [13, 22, 29, 37, 46, 49, 52, 56, 71]\n"
     ]
    }
   ],
   "source": [
    "def tri_fusion(liste):\n",
    "    if len(liste) > 1:\n",
    "        # Diviser la liste en deux moitiés\n",
    "        milieu = len(liste) // 2\n",
    "        moitie_gauche = liste[:milieu]\n",
    "        moitie_droite = liste[milieu:]\n",
    "\n",
    "        # Tri récursif des deux moitiés\n",
    "        tri_fusion(moitie_gauche)\n",
    "        tri_fusion(moitie_droite)\n",
    "\n",
    "        # Fusion des deux moitiés triées\n",
    "        i = j = k = 0\n",
    "\n",
    "        while i < len(moitie_gauche) and j < len(moitie_droite):\n",
    "            if moitie_gauche[i] < moitie_droite[j]:\n",
    "                liste[k] = moitie_gauche[i]\n",
    "                i += 1\n",
    "            else:\n",
    "                liste[k] = moitie_droite[j]\n",
    "                j += 1\n",
    "            k += 1\n",
    "\n",
    "        while i < len(moitie_gauche):\n",
    "            liste[k] = moitie_gauche[i]\n",
    "            i += 1\n",
    "            k += 1\n",
    "\n",
    "        while j < len(moitie_droite):\n",
    "            liste[k] = moitie_droite[j]\n",
    "            j += 1\n",
    "            k += 1\n",
    "\n",
    "# Test avec les données d'exemple\n",
    "donnees = [29, 13, 22, 37, 52, 49, 46, 71, 56]\n",
    "tri_fusion(donnees)\n",
    "\n",
    "# Afficher le résultat\n",
    "print(\"Résultat attendu :\", [13, 22, 29, 37, 46, 49, 52, 56, 71])\n",
    "print(\"Résultat obtenu   :\", donnees)\n"
   ]
  },
  {
   "cell_type": "code",
   "execution_count": 5,
   "id": "66c11810",
   "metadata": {},
   "outputs": [
    {
     "name": "stdout",
     "output_type": "stream",
     "text": [
      "Résultat attendu : [13, 22, 29, 37, 46, 49, 52, 56, 71]\n",
      "Résultat obtenu   : [13, 22, 29, 37, 46, 49, 52, 56, 71]\n"
     ]
    }
   ],
   "source": [
    "def tri_rapide(liste):\n",
    "    if len(liste) <= 1:\n",
    "        return liste\n",
    "    else:\n",
    "        pivot = liste[0]\n",
    "        inferieurs = [x for x in liste[1:] if x <= pivot]\n",
    "        superieurs = [x for x in liste[1:] if x > pivot]\n",
    "        return tri_rapide(inferieurs) + [pivot] + tri_rapide(superieurs)\n",
    "\n",
    "# Test avec les données d'exemple\n",
    "donnees = [29, 13, 22, 37, 52, 49, 46, 71, 56]\n",
    "resultat = tri_rapide(donnees)\n",
    "\n",
    "# Afficher le résultat\n",
    "print(\"Résultat attendu :\", [13, 22, 29, 37, 46, 49, 52, 56, 71])\n",
    "print(\"Résultat obtenu   :\", resultat)\n"
   ]
  },
  {
   "cell_type": "code",
   "execution_count": null,
   "id": "5fb72a00",
   "metadata": {},
   "outputs": [],
   "source": []
  }
 ],
 "metadata": {
  "kernelspec": {
   "display_name": "Python 3 (ipykernel)",
   "language": "python",
   "name": "python3"
  },
  "language_info": {
   "codemirror_mode": {
    "name": "ipython",
    "version": 3
   },
   "file_extension": ".py",
   "mimetype": "text/x-python",
   "name": "python",
   "nbconvert_exporter": "python",
   "pygments_lexer": "ipython3",
   "version": "3.11.5"
  }
 },
 "nbformat": 4,
 "nbformat_minor": 5
}
