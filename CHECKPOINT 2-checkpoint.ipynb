{
 "cells": [
  {
   "cell_type": "code",
   "execution_count": 1,
   "id": "d0d1541b",
   "metadata": {},
   "outputs": [
    {
     "name": "stdout",
     "output_type": "stream",
     "text": [
      "Bienvenue au jeu Devinez le Numéro ! Je pense à un numéro entre 1 et 100. Pouvez-vous deviner lequel c'est\n",
      "Entrez votre estimation 13\n",
      "trop basse\n",
      "Entrez votre estimation 20\n",
      "trop basse\n",
      "Entrez votre estimation 30\n",
      "trop basse\n",
      "Entrez votre estimation 40\n",
      "trop haute\n",
      "Entrez votre estimation 35\n",
      "trop haute\n",
      "Entrez votre estimation 33\n",
      "trop basse\n",
      "Entrez votre estimation 34\n",
      "correct\n"
     ]
    }
   ],
   "source": [
    "import random\n",
    "v=random.randint(1,100)\n",
    "print(\"Bienvenue au jeu Devinez le Numéro ! Je pense à un numéro entre 1 et 100. Pouvez-vous deviner lequel c'est\")\n",
    "while True:\n",
    "    x=input(\"Entrez votre estimation \")\n",
    "    c=int(x) \n",
    "    if v==c:\n",
    "        print(\"correct\")\n",
    "        break\n",
    "    elif c>v:\n",
    "        print(\"trop haute\")\n",
    "    elif c<v:\n",
    "        print(\"trop basse\")\n",
    "       \n"
   ]
  },
  {
   "cell_type": "code",
   "execution_count": null,
   "id": "3b04b971",
   "metadata": {},
   "outputs": [],
   "source": []
  }
 ],
 "metadata": {
  "kernelspec": {
   "display_name": "Python 3 (ipykernel)",
   "language": "python",
   "name": "python3"
  },
  "language_info": {
   "codemirror_mode": {
    "name": "ipython",
    "version": 3
   },
   "file_extension": ".py",
   "mimetype": "text/x-python",
   "name": "python",
   "nbconvert_exporter": "python",
   "pygments_lexer": "ipython3",
   "version": "3.11.5"
  }
 },
 "nbformat": 4,
 "nbformat_minor": 5
}
