{
 "cells": [
  {
   "cell_type": "code",
   "execution_count": null,
   "id": "e4c2571e",
   "metadata": {},
   "outputs": [],
   "source": [
    "import tkinter as tk\n",
    "from tkinter import Label, Entry, Button\n",
    "import random\n",
    "\n",
    "# Configuration de la fenêtre principale\n",
    "window = tk.Tk()\n",
    "window.title(\"Jeu Pierre-Papier-Ciseaux\")\n",
    "window.geometry(\"400x200\")\n",
    "window.configure(bg='#e0e0e0')\n",
    "\n",
    "# Étiquette pour le titre du jeu\n",
    "title_label = Label(window, text=\"Pierre-Papier-Ciseaux\", font=('Helvetica', 16), bg='#e0e0e0')\n",
    "title_label.pack(pady=10)\n",
    "\n",
    "# Champ de saisie pour que l'utilisateur choisisse entre pierre, papier ou ciseaux\n",
    "user_entry = Entry(window, width=20)\n",
    "user_entry.pack(pady=10)\n",
    "\n",
    "# Bouton pour jouer\n",
    "play_button = Button(window, text=\"Jouer\", command=play)\n",
    "play_button.pack(pady=5)\n",
    "\n",
    "# Bouton pour réinitialiser le jeu\n",
    "reset_button = Button(window, text=\"Réinitialiser\", command=reset)\n",
    "reset_button.pack(pady=5)\n",
    "\n",
    "# Étiquette pour afficher le résultat\n",
    "result_label = Label(window, text=\"\", font=('Helvetica', 12), bg='#e0e0e0')\n",
    "result_label.pack(pady=10)\n",
    "\n",
    "# Bouton pour quitter le jeu\n",
    "exit_button = Button(window, text=\"Quitter\", command=exit_game)\n",
    "exit_button.pack(pady=5)\n",
    "\n",
    "# Lancement de la boucle principale de la fenêtre\n",
    "window.mainloop()\n"
   ]
  }
 ],
 "metadata": {
  "kernelspec": {
   "display_name": "Python 3 (ipykernel)",
   "language": "python",
   "name": "python3"
  },
  "language_info": {
   "codemirror_mode": {
    "name": "ipython",
    "version": 3
   },
   "file_extension": ".py",
   "mimetype": "text/x-python",
   "name": "python",
   "nbconvert_exporter": "python",
   "pygments_lexer": "ipython3",
   "version": "3.11.5"
  }
 },
 "nbformat": 4,
 "nbformat_minor": 5
}
