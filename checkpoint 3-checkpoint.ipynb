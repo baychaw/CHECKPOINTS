{
 "cells": [
  {
   "cell_type": "code",
   "execution_count": 1,
   "id": "09acd8cd",
   "metadata": {},
   "outputs": [
    {
     "name": "stdout",
     "output_type": "stream",
     "text": [
      "36\n"
     ]
    }
   ],
   "source": [
    "X = [2, 3, 6]\n",
    "n = 1\n",
    "for i in X:\n",
    "    n = n * i\n",
    "    \n",
    "print(n)"
   ]
  },
  {
   "cell_type": "code",
   "execution_count": 3,
   "id": "87f10438",
   "metadata": {},
   "outputs": [
    {
     "name": "stdout",
     "output_type": "stream",
     "text": [
      "[(2, 1), (2, 4), (3, 0), (3, 8)]\n"
     ]
    }
   ],
   "source": [
    "A=[(2,1),(3,8),(3,0),(2,4)]\n",
    "B=sorted(A)\n",
    "print(B)"
   ]
  },
  {
   "cell_type": "code",
   "execution_count": 4,
   "id": "7209fd06",
   "metadata": {},
   "outputs": [
    {
     "data": {
      "text/plain": [
       "{'c': 400, 'b': 400, 'a': 300}"
      ]
     },
     "execution_count": 4,
     "metadata": {},
     "output_type": "execute_result"
    }
   ],
   "source": [
    "d1={'a':100,'b':200,'c':300}\n",
    "d2={'a':200,'b':200,'c':100}\n",
    "d = {}\n",
    "for k in d1.keys() | d2.keys():\n",
    "    d[k] = d1.get(k, 0) + d2.get(k, 0)\n",
    "    \n",
    "d"
   ]
  },
  {
   "cell_type": "code",
   "execution_count": 5,
   "id": "398503a8",
   "metadata": {},
   "outputs": [
    {
     "name": "stdout",
     "output_type": "stream",
     "text": [
      "entrer un nombre8\n",
      "{1: 1, 2: 4, 3: 9, 4: 16, 5: 25, 6: 36, 7: 49, 8: 64}\n"
     ]
    }
   ],
   "source": [
    "def dicte_care(n):\n",
    "    d1={}\n",
    "    for i in range (1,n+1):\n",
    "        d1[i]= i * i\n",
    "        \n",
    "    return d1    \n",
    "\n",
    "n=int(input(\"entrer un nombre\"))\n",
    "resultat=dicte_care(n)\n",
    "print (resultat)"
   ]
  },
  {
   "cell_type": "code",
   "execution_count": 6,
   "id": "07d286d7",
   "metadata": {},
   "outputs": [
    {
     "name": "stdout",
     "output_type": "stream",
     "text": [
      "[('item3', '24.5'), ('item2', '15.10'), ('item1', '12.20')]\n"
     ]
    }
   ],
   "source": [
    "liste = [('item1', '12.20'), ('item2', '15.10'), ('item3', '24.5')]\n",
    "def cle_tri(element):\n",
    "    return float(element[1])\n",
    "\n",
    "resultat = sorted(liste, key=cle_tri, reverse=True)\n",
    "print (resultat)"
   ]
  },
  {
   "cell_type": "code",
   "execution_count": 7,
   "id": "3367e96c",
   "metadata": {},
   "outputs": [
    {
     "name": "stdout",
     "output_type": "stream",
     "text": [
      "Set créé : {0, 1, 2, 3, 4}\n"
     ]
    }
   ],
   "source": [
    "mon_set = {0, 1, 2, 3, 4}\n",
    "print(\"Set créé :\", mon_set)\n"
   ]
  },
  {
   "cell_type": "code",
   "execution_count": 8,
   "id": "26eb7bf0",
   "metadata": {},
   "outputs": [
    {
     "name": "stdout",
     "output_type": "stream",
     "text": [
      "0\n",
      "1\n",
      "2\n",
      "3\n",
      "4\n"
     ]
    }
   ],
   "source": [
    "for element in mon_set:\n",
    "    print(element)"
   ]
  },
  {
   "cell_type": "code",
   "execution_count": 9,
   "id": "be26ada1",
   "metadata": {},
   "outputs": [
    {
     "name": "stdout",
     "output_type": "stream",
     "text": [
      "Set après ajout : {0, 1, 2, 3, 4, 5, 6}\n"
     ]
    }
   ],
   "source": [
    "mon_set.add(5)\n",
    "mon_set.add(6)\n",
    "print(\"Set après ajout :\", mon_set)"
   ]
  },
  {
   "cell_type": "code",
   "execution_count": 10,
   "id": "3fb170cb",
   "metadata": {},
   "outputs": [
    {
     "name": "stdout",
     "output_type": "stream",
     "text": [
      "Set après retrait : {0, 1, 3, 5, 6}\n"
     ]
    }
   ],
   "source": [
    "mon_set.remove(2)\n",
    "mon_set.discard(4)\n",
    "print(\"Set après retrait :\", mon_set)"
   ]
  },
  {
   "cell_type": "code",
   "execution_count": null,
   "id": "301a13ae",
   "metadata": {},
   "outputs": [],
   "source": []
  }
 ],
 "metadata": {
  "kernelspec": {
   "display_name": "Python 3 (ipykernel)",
   "language": "python",
   "name": "python3"
  },
  "language_info": {
   "codemirror_mode": {
    "name": "ipython",
    "version": 3
   },
   "file_extension": ".py",
   "mimetype": "text/x-python",
   "name": "python",
   "nbconvert_exporter": "python",
   "pygments_lexer": "ipython3",
   "version": "3.11.5"
  }
 },
 "nbformat": 4,
 "nbformat_minor": 5
}
