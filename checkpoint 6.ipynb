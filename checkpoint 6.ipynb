{
 "cells": [
  {
   "cell_type": "code",
   "execution_count": 6,
   "id": "d443e27b",
   "metadata": {},
   "outputs": [
    {
     "name": "stdout",
     "output_type": "stream",
     "text": [
      "Entrez le nombre d'élèves : 2\n",
      "Entrez le nombre de matières : 3\n",
      "Entrez la note de l'élève 1 pour la matière 1 : 90\n",
      "Entrez la note de l'élève 1 pour la matière 2 : 80\n",
      "Entrez la note de l'élève 1 pour la matière 3 : 70\n",
      "Entrez la note de l'élève 2 pour la matière 1 : 90\n",
      "Entrez la note de l'élève 2 pour la matière 2 : 97\n",
      "Entrez la note de l'élève 2 pour la matière 3 : 88\n",
      "\n",
      "Résultats pour chaque élève :\n",
      " \n",
      "Nom de l'élève | Note Totale | Pourcentage | Note Finale\n",
      "--------------------------------------------------\n",
      "Elève 1        | 240.00        | 80.00%       | A\n",
      "Elève 2        | 275.00        | 91.67%       | A+\n"
     ]
    }
   ],
   "source": [
    "import numpy as np\n",
    "\n",
    "# Demander à l'utilisateur de saisir le nombre d'élèves et de matières\n",
    "nombre_eleves = int(input(\"Entrez le nombre d'élèves : \"))\n",
    "nombre_matieres = int(input(\"Entrez le nombre de matières : \"))\n",
    "\n",
    "# Créer un tableau NumPy pour stocker les notes de chaque élève dans chaque matière\n",
    "notes = np.zeros((nombre_eleves, nombre_matieres))\n",
    "\n",
    "# Saisie des notes pour chaque élève et chaque matière\n",
    "for i in range(nombre_eleves):\n",
    "    for j in range(nombre_matieres):\n",
    "        note = float(input(f\"Entrez la note de l'élève {i+1} pour la matière {j+1} : \"))\n",
    "        notes[i, j] = note\n",
    "\n",
    "# Calculer la note totale pour chaque élève en utilisant la fonction sum() de NumPy\n",
    "notes_totales = np.sum(notes, axis=1)\n",
    "\n",
    "# Calculer le pourcentage pour chaque élève\n",
    "pourcentages = (notes_totales / (nombre_matieres * 100)) * 100\n",
    "\n",
    "# Déterminer la note finale pour chaque élève en utilisant le système de notation\n",
    "def attribuer_note(pourcentage):\n",
    "    if pourcentage >= 90:\n",
    "        return 'A+'\n",
    "    elif pourcentage >= 80:\n",
    "        return 'A'\n",
    "    elif pourcentage >= 70:\n",
    "        return 'B+'\n",
    "    elif pourcentage >= 60:\n",
    "        return 'B'\n",
    "    elif pourcentage >= 50:\n",
    "        return 'C'\n",
    "    else:\n",
    "        return 'F'\n",
    "\n",
    "# Attribuer la note finale à chaque élève\n",
    "notes_finales = np.array([attribuer_note(pourcentage) for pourcentage in pourcentages])\n",
    "\n",
    "# Afficher le résultat sous forme de tableau\n",
    "print(\"\\nRésultats pour chaque élève :\\n \" )\n",
    "print(\"Nom de l'élève | Note Totale | Pourcentage | Note Finale\")\n",
    "print(\"-\" * 50)\n",
    "for i in range(nombre_eleves):\n",
    "    print(f\"Elève {i+1}        | {notes_totales[i]:.2f}        | {pourcentages[i]:.2f}%       | {notes_finales[i]}\")\n"
   ]
  },
  {
   "cell_type": "code",
   "execution_count": null,
   "id": "a1535578",
   "metadata": {},
   "outputs": [],
   "source": []
  }
 ],
 "metadata": {
  "kernelspec": {
   "display_name": "Python 3 (ipykernel)",
   "language": "python",
   "name": "python3"
  },
  "language_info": {
   "codemirror_mode": {
    "name": "ipython",
    "version": 3
   },
   "file_extension": ".py",
   "mimetype": "text/x-python",
   "name": "python",
   "nbconvert_exporter": "python",
   "pygments_lexer": "ipython3",
   "version": "3.11.5"
  }
 },
 "nbformat": 4,
 "nbformat_minor": 5
}
