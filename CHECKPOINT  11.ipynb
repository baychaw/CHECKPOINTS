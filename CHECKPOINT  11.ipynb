{
 "cells": [
  {
   "cell_type": "code",
   "execution_count": 7,
   "id": "28249081",
   "metadata": {},
   "outputs": [],
   "source": [
    "import tkinter as tk\n",
    "def fahrenheit_to_celsius(temp):\n",
    "    celsius=(temp-32)*5/9\n",
    "    return celsius\n",
    "    \n",
    "def convertir():\n",
    "    v = entry.get()\n",
    "    cel = fahrenheit_to_celsius(float(v))\n",
    "    resultat_label.config(text = f\"Résultat : {cel:.2f} °C\")\n",
    "\n",
    "fenetre=tk.Tk()\n",
    "fenetre.title(\"convertiseur de temperature\")\n",
    "\n",
    "label = tk.Label(fenetre, text=\"Température en Fahrenheit:\")\n",
    "label.pack(pady=10)\n",
    "\n",
    "entry = tk.Entry(fenetre)\n",
    "entry.pack(pady=10)\n",
    "\n",
    "convertir_bouton = tk.Button(fenetre, text=\"Convertir\", command=convertir)\n",
    "convertir_bouton.pack(pady=10)\n",
    "\n",
    "resultat_label = tk.Label(fenetre, text=\"\")\n",
    "resultat_label.pack(pady=10)\n",
    "\n",
    "fenetre.mainloop()\n"
   ]
  },
  {
   "cell_type": "markdown",
   "id": "06ffc966",
   "metadata": {},
   "source": [
    "# "
   ]
  },
  {
   "cell_type": "code",
   "execution_count": null,
   "id": "fd8d6b60",
   "metadata": {},
   "outputs": [],
   "source": []
  }
 ],
 "metadata": {
  "kernelspec": {
   "display_name": "Python 3 (ipykernel)",
   "language": "python",
   "name": "python3"
  },
  "language_info": {
   "codemirror_mode": {
    "name": "ipython",
    "version": 3
   },
   "file_extension": ".py",
   "mimetype": "text/x-python",
   "name": "python",
   "nbconvert_exporter": "python",
   "pygments_lexer": "ipython3",
   "version": "3.11.5"
  }
 },
 "nbformat": 4,
 "nbformat_minor": 5
}
