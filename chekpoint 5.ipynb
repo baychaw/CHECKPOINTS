{
 "cells": [
  {
   "cell_type": "code",
   "execution_count": 1,
   "id": "7fd8b591",
   "metadata": {},
   "outputs": [
    {
     "name": "stdout",
     "output_type": "stream",
     "text": [
      "Coordonnées de my_point: (1, 2, 3)\n"
     ]
    }
   ],
   "source": [
    "class Point3D:\n",
    "    def __init__(self, x, y, z):\n",
    "        self.x = x\n",
    "        self.y = y\n",
    "        self.z = z\n",
    "\n",
    "    def get_coordinates(self):\n",
    "        return (self.x, self.y, self.z)\n",
    "\n",
    "my_point = Point3D(1, 2, 3)\n",
    "\n",
    "print(\"Coordonnées de my_point:\", my_point.get_coordinates())"
   ]
  },
  {
   "cell_type": "code",
   "execution_count": 2,
   "id": "92d8bdab",
   "metadata": {},
   "outputs": [
    {
     "name": "stdout",
     "output_type": "stream",
     "text": [
      "l'aire de rectangle est 12\n",
      "perimetre de rectangle est 14\n"
     ]
    }
   ],
   "source": [
    "class rectangle:\n",
    "    def __init__(self,longeur,largeur):\n",
    "        self.longeur=longeur\n",
    "        self.largeur=largeur\n",
    "    def air(self):\n",
    "        return (self.longeur*self.largeur)\n",
    "    def perimetre(self):\n",
    "        return((self.longeur+self.largeur)*2)\n",
    "    \n",
    "my_rectangle=rectangle(4,3)\n",
    "print(\"l'aire de rectangle est\", my_rectangle.air())\n",
    "print(\"perimetre de rectangle est\" , my_rectangle.perimetre())\n",
    "        "
   ]
  },
  {
   "cell_type": "code",
   "execution_count": 3,
   "id": "4dd352fb",
   "metadata": {},
   "outputs": [
    {
     "name": "stdout",
     "output_type": "stream",
     "text": [
      "Aire du cercle: 78.53981633974483\n",
      "Périmètre du cercle: 31.41592653589793\n",
      "Le point (3, 4) est à l'intérieur du cercle.\n"
     ]
    }
   ],
   "source": [
    "import math\n",
    "\n",
    "class Cercle:\n",
    "    def __init__(self, centre, rayon):\n",
    "        self.centre = centre\n",
    "        self.rayon = rayon\n",
    "\n",
    "    def aire(self):\n",
    "        return math.pi * self.rayon**2\n",
    "\n",
    "    def perimetre(self):\n",
    "        return 2 * math.pi * self.rayon\n",
    "\n",
    "    def isInside(self, point):\n",
    "        x, y = point\n",
    "        distance_centre_point = math.sqrt((x - self.centre[0])**2 + (y - self.centre[1])**2)\n",
    "        return distance_centre_point <= self.rayon\n",
    "\n",
    "\n",
    "centre_du_cercle = (0, 0)\n",
    "rayon_du_cercle = 5\n",
    "\n",
    "cercle1 = Cercle(centre_du_cercle, rayon_du_cercle)\n",
    "\n",
    "\n",
    "print(\"Aire du cercle:\", cercle1.aire())\n",
    "print(\"Périmètre du cercle:\", cercle1.perimetre())\n",
    "\n",
    "\n",
    "point_a = (3, 4)\n",
    "if cercle1.isInside(point_a):\n",
    "    print(f\"Le point {point_a} est à l'intérieur du cercle.\")\n",
    "else:\n",
    "    print(f\"Le point {point_a} est à l'extérieur du cercle.\")\n",
    "    "
   ]
  },
  {
   "cell_type": "code",
   "execution_count": 4,
   "id": "de529def",
   "metadata": {},
   "outputs": [
    {
     "name": "stdout",
     "output_type": "stream",
     "text": [
      "le nouveau montant apres depot est 5800\n",
      "le nouveau montant apres retrait est 5300\n"
     ]
    }
   ],
   "source": [
    "class banque:\n",
    "    def __init__(self,solde):\n",
    "        self.solde=solde\n",
    "        \n",
    "    def depot(self,montand):\n",
    "        self.solde=self.solde+montand\n",
    "        return self.solde\n",
    "    def retrait(self,montantr):\n",
    "        self.solde=self.solde-montantr\n",
    "        return self.solde\n",
    "    \n",
    "my_banque=banque(5000)\n",
    "print(\"le nouveau montant apres depot est\", my_banque.depot(800))\n",
    "print(\"le nouveau montant apres retrait est\", my_banque.retrait(500))"
   ]
  },
  {
   "cell_type": "code",
   "execution_count": null,
   "id": "9ec5ab8a",
   "metadata": {},
   "outputs": [],
   "source": []
  }
 ],
 "metadata": {
  "kernelspec": {
   "display_name": "Python 3 (ipykernel)",
   "language": "python",
   "name": "python3"
  },
  "language_info": {
   "codemirror_mode": {
    "name": "ipython",
    "version": 3
   },
   "file_extension": ".py",
   "mimetype": "text/x-python",
   "name": "python",
   "nbconvert_exporter": "python",
   "pygments_lexer": "ipython3",
   "version": "3.11.5"
  }
 },
 "nbformat": 4,
 "nbformat_minor": 5
}
